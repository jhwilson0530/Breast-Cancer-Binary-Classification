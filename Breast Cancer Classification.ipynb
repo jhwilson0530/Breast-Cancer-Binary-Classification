{
 "cells": [
  {
   "cell_type": "code",
   "execution_count": 126,
   "metadata": {},
   "outputs": [],
   "source": [
    "import numpy as np\n",
    "import pandas as pd\n",
    "import opendatasets as od\n",
    "import os\n",
    "import calendar\n",
    "from datetime import datetime\n",
    "from sklearn.model_selection import train_test_split\n",
    "from sklearn.decomposition import PCA\n",
    "from sklearn.linear_model import SGDClassifier\n",
    "from sklearn.model_selection import cross_val_score\n",
    "from sklearn.model_selection import cross_val_predict\n",
    "from sklearn.metrics import confusion_matrix\n",
    "from sklearn.metrics import precision_recall_curve\n",
    "import matplotlib.pyplot as plt\n",
    "from sklearn.metrics import precision_score,recall_score\n",
    "from sklearn.metrics import roc_curve\n",
    "from sklearn.metrics import roc_auc_score\n",
    "from sklearn.svm import SVC\n",
    "from sklearn.pipeline import Pipeline\n",
    "from sklearn.preprocessing import StandardScaler\n",
    "from sklearn.ensemble import RandomForestClassifier\n",
    "from sklearn.metrics import roc_auc_score\n",
    "from sklearn.ensemble import VotingClassifier\n",
    "from sklearn.model_selection import GridSearchCV\n",
    "from sklearn.metrics import accuracy_score"
   ]
  },
  {
   "cell_type": "code",
   "execution_count": 2,
   "metadata": {},
   "outputs": [],
   "source": [
    "#od.download('https://www.kaggle.com/amandam1/breastcancerdataset')\n",
    "#data set from kaggle "
   ]
  },
  {
   "cell_type": "code",
   "execution_count": 3,
   "metadata": {},
   "outputs": [],
   "source": [
    "curr  = os.getcwd()"
   ]
  },
  {
   "cell_type": "code",
   "execution_count": 4,
   "metadata": {},
   "outputs": [],
   "source": [
    "os.chdir(curr + '\\\\' + 'breastcancerdataset')"
   ]
  },
  {
   "cell_type": "code",
   "execution_count": 5,
   "metadata": {},
   "outputs": [],
   "source": [
    "files = os.listdir()\n",
    "file = files[0]"
   ]
  },
  {
   "cell_type": "code",
   "execution_count": 6,
   "metadata": {},
   "outputs": [],
   "source": [
    "def file_open(path):\n",
    "    \n",
    "    with open(path) as f_obj:\n",
    "        content = pd.read_csv(f_obj)\n",
    "    return content"
   ]
  },
  {
   "cell_type": "code",
   "execution_count": 7,
   "metadata": {},
   "outputs": [],
   "source": [
    "data_uncleaned= file_open(file)\n",
    "#retrieves files from dir as a pandas dataframe"
   ]
  },
  {
   "cell_type": "code",
   "execution_count": 8,
   "metadata": {},
   "outputs": [
    {
     "data": {
      "text/html": [
       "<div>\n",
       "<style scoped>\n",
       "    .dataframe tbody tr th:only-of-type {\n",
       "        vertical-align: middle;\n",
       "    }\n",
       "\n",
       "    .dataframe tbody tr th {\n",
       "        vertical-align: top;\n",
       "    }\n",
       "\n",
       "    .dataframe thead th {\n",
       "        text-align: right;\n",
       "    }\n",
       "</style>\n",
       "<table border=\"1\" class=\"dataframe\">\n",
       "  <thead>\n",
       "    <tr style=\"text-align: right;\">\n",
       "      <th></th>\n",
       "      <th>ï»¿Patient_ID</th>\n",
       "      <th>Age</th>\n",
       "      <th>Gender</th>\n",
       "      <th>Protein1</th>\n",
       "      <th>Protein2</th>\n",
       "      <th>Protein3</th>\n",
       "      <th>Protein4</th>\n",
       "      <th>Tumour_Stage</th>\n",
       "      <th>Histology</th>\n",
       "      <th>ER status</th>\n",
       "      <th>PR status</th>\n",
       "      <th>HER2 status</th>\n",
       "      <th>Surgery_type</th>\n",
       "      <th>Date_of_Surgery</th>\n",
       "      <th>Date_of_Last_Visit</th>\n",
       "      <th>Patient_Status</th>\n",
       "    </tr>\n",
       "  </thead>\n",
       "  <tbody>\n",
       "    <tr>\n",
       "      <th>0</th>\n",
       "      <td>TCGA-D8-A1XD</td>\n",
       "      <td>36.0</td>\n",
       "      <td>FEMALE</td>\n",
       "      <td>0.080353</td>\n",
       "      <td>0.42638</td>\n",
       "      <td>0.54715</td>\n",
       "      <td>0.273680</td>\n",
       "      <td>III</td>\n",
       "      <td>Infiltrating Ductal Carcinoma</td>\n",
       "      <td>Positive</td>\n",
       "      <td>Positive</td>\n",
       "      <td>Negative</td>\n",
       "      <td>Modified Radical Mastectomy</td>\n",
       "      <td>15-Jan-17</td>\n",
       "      <td>19-Jun-17</td>\n",
       "      <td>Alive</td>\n",
       "    </tr>\n",
       "    <tr>\n",
       "      <th>1</th>\n",
       "      <td>TCGA-EW-A1OX</td>\n",
       "      <td>43.0</td>\n",
       "      <td>FEMALE</td>\n",
       "      <td>-0.420320</td>\n",
       "      <td>0.57807</td>\n",
       "      <td>0.61447</td>\n",
       "      <td>-0.031505</td>\n",
       "      <td>II</td>\n",
       "      <td>Mucinous Carcinoma</td>\n",
       "      <td>Positive</td>\n",
       "      <td>Positive</td>\n",
       "      <td>Negative</td>\n",
       "      <td>Lumpectomy</td>\n",
       "      <td>26-Apr-17</td>\n",
       "      <td>09-Nov-18</td>\n",
       "      <td>Dead</td>\n",
       "    </tr>\n",
       "    <tr>\n",
       "      <th>2</th>\n",
       "      <td>TCGA-A8-A079</td>\n",
       "      <td>69.0</td>\n",
       "      <td>FEMALE</td>\n",
       "      <td>0.213980</td>\n",
       "      <td>1.31140</td>\n",
       "      <td>-0.32747</td>\n",
       "      <td>-0.234260</td>\n",
       "      <td>III</td>\n",
       "      <td>Infiltrating Ductal Carcinoma</td>\n",
       "      <td>Positive</td>\n",
       "      <td>Positive</td>\n",
       "      <td>Negative</td>\n",
       "      <td>Other</td>\n",
       "      <td>08-Sep-17</td>\n",
       "      <td>09-Jun-18</td>\n",
       "      <td>Alive</td>\n",
       "    </tr>\n",
       "    <tr>\n",
       "      <th>3</th>\n",
       "      <td>TCGA-D8-A1XR</td>\n",
       "      <td>56.0</td>\n",
       "      <td>FEMALE</td>\n",
       "      <td>0.345090</td>\n",
       "      <td>-0.21147</td>\n",
       "      <td>-0.19304</td>\n",
       "      <td>0.124270</td>\n",
       "      <td>II</td>\n",
       "      <td>Infiltrating Ductal Carcinoma</td>\n",
       "      <td>Positive</td>\n",
       "      <td>Positive</td>\n",
       "      <td>Negative</td>\n",
       "      <td>Modified Radical Mastectomy</td>\n",
       "      <td>25-Jan-17</td>\n",
       "      <td>12-Jul-17</td>\n",
       "      <td>Alive</td>\n",
       "    </tr>\n",
       "    <tr>\n",
       "      <th>4</th>\n",
       "      <td>TCGA-BH-A0BF</td>\n",
       "      <td>56.0</td>\n",
       "      <td>FEMALE</td>\n",
       "      <td>0.221550</td>\n",
       "      <td>1.90680</td>\n",
       "      <td>0.52045</td>\n",
       "      <td>-0.311990</td>\n",
       "      <td>II</td>\n",
       "      <td>Infiltrating Ductal Carcinoma</td>\n",
       "      <td>Positive</td>\n",
       "      <td>Positive</td>\n",
       "      <td>Negative</td>\n",
       "      <td>Other</td>\n",
       "      <td>06-May-17</td>\n",
       "      <td>27-Jun-19</td>\n",
       "      <td>Dead</td>\n",
       "    </tr>\n",
       "  </tbody>\n",
       "</table>\n",
       "</div>"
      ],
      "text/plain": [
       "  ï»¿Patient_ID   Age  Gender  Protein1  Protein2  Protein3  Protein4  \\\n",
       "0  TCGA-D8-A1XD  36.0  FEMALE  0.080353   0.42638   0.54715  0.273680   \n",
       "1  TCGA-EW-A1OX  43.0  FEMALE -0.420320   0.57807   0.61447 -0.031505   \n",
       "2  TCGA-A8-A079  69.0  FEMALE  0.213980   1.31140  -0.32747 -0.234260   \n",
       "3  TCGA-D8-A1XR  56.0  FEMALE  0.345090  -0.21147  -0.19304  0.124270   \n",
       "4  TCGA-BH-A0BF  56.0  FEMALE  0.221550   1.90680   0.52045 -0.311990   \n",
       "\n",
       "  Tumour_Stage                      Histology ER status PR status HER2 status  \\\n",
       "0          III  Infiltrating Ductal Carcinoma  Positive  Positive    Negative   \n",
       "1           II             Mucinous Carcinoma  Positive  Positive    Negative   \n",
       "2          III  Infiltrating Ductal Carcinoma  Positive  Positive    Negative   \n",
       "3           II  Infiltrating Ductal Carcinoma  Positive  Positive    Negative   \n",
       "4           II  Infiltrating Ductal Carcinoma  Positive  Positive    Negative   \n",
       "\n",
       "                  Surgery_type Date_of_Surgery Date_of_Last_Visit  \\\n",
       "0  Modified Radical Mastectomy       15-Jan-17          19-Jun-17   \n",
       "1                   Lumpectomy       26-Apr-17          09-Nov-18   \n",
       "2                        Other       08-Sep-17          09-Jun-18   \n",
       "3  Modified Radical Mastectomy       25-Jan-17          12-Jul-17   \n",
       "4                        Other       06-May-17          27-Jun-19   \n",
       "\n",
       "  Patient_Status  \n",
       "0          Alive  \n",
       "1           Dead  \n",
       "2          Alive  \n",
       "3          Alive  \n",
       "4           Dead  "
      ]
     },
     "execution_count": 8,
     "metadata": {},
     "output_type": "execute_result"
    }
   ],
   "source": [
    "data_uncleaned.head()"
   ]
  },
  {
   "cell_type": "code",
   "execution_count": 9,
   "metadata": {},
   "outputs": [],
   "source": [
    "data_uncleaned = data_uncleaned.drop(columns = ['Gender'],axis = 0)\n",
    "#all are female"
   ]
  },
  {
   "cell_type": "code",
   "execution_count": 10,
   "metadata": {},
   "outputs": [],
   "source": [
    "def drop_NaN(df):\n",
    "    idxs_to_drop = []\n",
    "    for i in range(len(df)):\n",
    "        if df.iloc[i].isnull().any() == True:\n",
    "            idxs_to_drop.append(i)\n",
    "            \n",
    "    Y = df['Patient_Status']\n",
    "    X = df.drop(columns=['Patient_Status'],axis = 0)\n",
    "    \n",
    "    useful_data = X.drop(idxs_to_drop,axis= 0)\n",
    "    target = Y.drop(idxs_to_drop,axis=0)\n",
    "    \n",
    "    return useful_data,target"
   ]
  },
  {
   "cell_type": "code",
   "execution_count": 11,
   "metadata": {},
   "outputs": [],
   "source": [
    "month_dict = {month: str(index) for index, month in enumerate(calendar.month_abbr) if month}"
   ]
  },
  {
   "cell_type": "code",
   "execution_count": 12,
   "metadata": {},
   "outputs": [],
   "source": [
    "def date_corrected(date):\n",
    "    \n",
    "    date = date.split('-')\n",
    "    month = date[1]\n",
    "    year = date[2]\n",
    "    year_complete = '20' + year\n",
    "    \n",
    "    month_complete = month_dict.get(month)\n",
    "    \n",
    "    date_complete = '/'.join((date[0],month_complete,year_complete))\n",
    "    \n",
    "    return date_complete"
   ]
  },
  {
   "cell_type": "code",
   "execution_count": 13,
   "metadata": {},
   "outputs": [],
   "source": [
    "def add_days_btwn_visits(df):\n",
    "    \n",
    "    days_to_be_added_to_df = []\n",
    "    date_format = \"%d/%m/%Y\"\n",
    "   \n",
    "    for i in range(len(df)):\n",
    "        \n",
    "        surgery  = df.iloc[i]['Date_of_Surgery']\n",
    "        last = df.iloc[i]['Date_of_Last_Visit']\n",
    "        \n",
    "        surgery = date_corrected(surgery)\n",
    "        last = date_corrected(last)\n",
    "        \n",
    "        surg_date = datetime.strptime(surgery, date_format)\n",
    "        visit_date = datetime.strptime(last, date_format)\n",
    "        \n",
    "        days = visit_date - surg_date\n",
    "        days_to_be_added_to_df.append(days)\n",
    "    \n",
    "    days_str = [str(x).split(\" \")[0] for x in days_to_be_added_to_df]\n",
    "    \n",
    "    data_cleaned = []\n",
    "    for day in days_str:\n",
    "        if day == '0:00:00':\n",
    "            day = '0'\n",
    "        data_cleaned.append(day)\n",
    "        \n",
    "    days_int = [int(x) for x in data_cleaned] \n",
    "         \n",
    "    df['Days_btwn_surg_and_last_visit'] = days_int\n",
    "    return df\n",
    "    "
   ]
  },
  {
   "cell_type": "code",
   "execution_count": null,
   "metadata": {},
   "outputs": [],
   "source": [
    "\"\"\"The above functions are used to remove Nan values as well as take the dates between surgery and last visit and convert them\n",
    "to the number of days in between \"\"\""
   ]
  },
  {
   "cell_type": "code",
   "execution_count": 14,
   "metadata": {},
   "outputs": [],
   "source": [
    "data_no_visits,target = drop_NaN(data_uncleaned)"
   ]
  },
  {
   "cell_type": "code",
   "execution_count": 156,
   "metadata": {},
   "outputs": [],
   "source": [
    "binary_target = (target == 'Alive')\n",
    "#True if Alive , False if dead used for binary classification"
   ]
  },
  {
   "cell_type": "code",
   "execution_count": 157,
   "metadata": {},
   "outputs": [],
   "source": [
    "data_with_visits= add_days_btwn_visits(data_no_visits)"
   ]
  },
  {
   "cell_type": "code",
   "execution_count": 158,
   "metadata": {},
   "outputs": [],
   "source": [
    "roman_numeral_column = data_with_visits['Tumour_Stage'].apply(lambda x: len(x))\n",
    "#converts roman numerals to arabic numerals"
   ]
  },
  {
   "cell_type": "code",
   "execution_count": 159,
   "metadata": {},
   "outputs": [
    {
     "data": {
      "text/html": [
       "<div>\n",
       "<style scoped>\n",
       "    .dataframe tbody tr th:only-of-type {\n",
       "        vertical-align: middle;\n",
       "    }\n",
       "\n",
       "    .dataframe tbody tr th {\n",
       "        vertical-align: top;\n",
       "    }\n",
       "\n",
       "    .dataframe thead th {\n",
       "        text-align: right;\n",
       "    }\n",
       "</style>\n",
       "<table border=\"1\" class=\"dataframe\">\n",
       "  <thead>\n",
       "    <tr style=\"text-align: right;\">\n",
       "      <th></th>\n",
       "      <th>Age</th>\n",
       "      <th>Protein1</th>\n",
       "      <th>Protein2</th>\n",
       "      <th>Protein3</th>\n",
       "      <th>Protein4</th>\n",
       "      <th>Histology</th>\n",
       "      <th>HER2 status</th>\n",
       "      <th>Surgery_type</th>\n",
       "      <th>Days_btwn_surg_and_last_visit</th>\n",
       "    </tr>\n",
       "  </thead>\n",
       "  <tbody>\n",
       "    <tr>\n",
       "      <th>0</th>\n",
       "      <td>36.0</td>\n",
       "      <td>0.080353</td>\n",
       "      <td>0.42638</td>\n",
       "      <td>0.54715</td>\n",
       "      <td>0.273680</td>\n",
       "      <td>Infiltrating Ductal Carcinoma</td>\n",
       "      <td>Negative</td>\n",
       "      <td>Modified Radical Mastectomy</td>\n",
       "      <td>155</td>\n",
       "    </tr>\n",
       "    <tr>\n",
       "      <th>1</th>\n",
       "      <td>43.0</td>\n",
       "      <td>-0.420320</td>\n",
       "      <td>0.57807</td>\n",
       "      <td>0.61447</td>\n",
       "      <td>-0.031505</td>\n",
       "      <td>Mucinous Carcinoma</td>\n",
       "      <td>Negative</td>\n",
       "      <td>Lumpectomy</td>\n",
       "      <td>562</td>\n",
       "    </tr>\n",
       "    <tr>\n",
       "      <th>2</th>\n",
       "      <td>69.0</td>\n",
       "      <td>0.213980</td>\n",
       "      <td>1.31140</td>\n",
       "      <td>-0.32747</td>\n",
       "      <td>-0.234260</td>\n",
       "      <td>Infiltrating Ductal Carcinoma</td>\n",
       "      <td>Negative</td>\n",
       "      <td>Other</td>\n",
       "      <td>274</td>\n",
       "    </tr>\n",
       "    <tr>\n",
       "      <th>3</th>\n",
       "      <td>56.0</td>\n",
       "      <td>0.345090</td>\n",
       "      <td>-0.21147</td>\n",
       "      <td>-0.19304</td>\n",
       "      <td>0.124270</td>\n",
       "      <td>Infiltrating Ductal Carcinoma</td>\n",
       "      <td>Negative</td>\n",
       "      <td>Modified Radical Mastectomy</td>\n",
       "      <td>168</td>\n",
       "    </tr>\n",
       "    <tr>\n",
       "      <th>4</th>\n",
       "      <td>56.0</td>\n",
       "      <td>0.221550</td>\n",
       "      <td>1.90680</td>\n",
       "      <td>0.52045</td>\n",
       "      <td>-0.311990</td>\n",
       "      <td>Infiltrating Ductal Carcinoma</td>\n",
       "      <td>Negative</td>\n",
       "      <td>Other</td>\n",
       "      <td>782</td>\n",
       "    </tr>\n",
       "  </tbody>\n",
       "</table>\n",
       "</div>"
      ],
      "text/plain": [
       "    Age  Protein1  Protein2  Protein3  Protein4  \\\n",
       "0  36.0  0.080353   0.42638   0.54715  0.273680   \n",
       "1  43.0 -0.420320   0.57807   0.61447 -0.031505   \n",
       "2  69.0  0.213980   1.31140  -0.32747 -0.234260   \n",
       "3  56.0  0.345090  -0.21147  -0.19304  0.124270   \n",
       "4  56.0  0.221550   1.90680   0.52045 -0.311990   \n",
       "\n",
       "                       Histology HER2 status                 Surgery_type  \\\n",
       "0  Infiltrating Ductal Carcinoma    Negative  Modified Radical Mastectomy   \n",
       "1             Mucinous Carcinoma    Negative                   Lumpectomy   \n",
       "2  Infiltrating Ductal Carcinoma    Negative                        Other   \n",
       "3  Infiltrating Ductal Carcinoma    Negative  Modified Radical Mastectomy   \n",
       "4  Infiltrating Ductal Carcinoma    Negative                        Other   \n",
       "\n",
       "   Days_btwn_surg_and_last_visit  \n",
       "0                            155  \n",
       "1                            562  \n",
       "2                            274  \n",
       "3                            168  \n",
       "4                            782  "
      ]
     },
     "execution_count": 159,
     "metadata": {},
     "output_type": "execute_result"
    }
   ],
   "source": [
    "data_wo_unimportant_columns = data_with_visits.drop(columns = ['Date_of_Surgery','Date_of_Last_Visit','ï»¿Patient_ID',\n",
    "                                                           'Tumour_Stage','PR status','ER status'],axis= 0)\n",
    "data_wo_unimportant_columns.head()\n",
    "#removes unimportant columns before training"
   ]
  },
  {
   "cell_type": "code",
   "execution_count": 160,
   "metadata": {},
   "outputs": [],
   "source": [
    "data_wo_unimportant_columns['Tumour_stage_int'] = roman_numeral_column"
   ]
  },
  {
   "cell_type": "code",
   "execution_count": 161,
   "metadata": {},
   "outputs": [],
   "source": [
    "data = pd.get_dummies(data_wo_unimportant_columns,columns = ['Histology','HER2 status','Surgery_type'])\n",
    "#these are one hot encoded to get binary columns so that data can be classified"
   ]
  },
  {
   "cell_type": "code",
   "execution_count": 162,
   "metadata": {},
   "outputs": [
    {
     "data": {
      "text/html": [
       "<div>\n",
       "<style scoped>\n",
       "    .dataframe tbody tr th:only-of-type {\n",
       "        vertical-align: middle;\n",
       "    }\n",
       "\n",
       "    .dataframe tbody tr th {\n",
       "        vertical-align: top;\n",
       "    }\n",
       "\n",
       "    .dataframe thead th {\n",
       "        text-align: right;\n",
       "    }\n",
       "</style>\n",
       "<table border=\"1\" class=\"dataframe\">\n",
       "  <thead>\n",
       "    <tr style=\"text-align: right;\">\n",
       "      <th></th>\n",
       "      <th>Age</th>\n",
       "      <th>Protein1</th>\n",
       "      <th>Protein2</th>\n",
       "      <th>Protein3</th>\n",
       "      <th>Protein4</th>\n",
       "      <th>Days_btwn_surg_and_last_visit</th>\n",
       "      <th>Tumour_stage_int</th>\n",
       "      <th>Histology_Infiltrating Ductal Carcinoma</th>\n",
       "      <th>Histology_Infiltrating Lobular Carcinoma</th>\n",
       "      <th>Histology_Mucinous Carcinoma</th>\n",
       "      <th>HER2 status_Negative</th>\n",
       "      <th>HER2 status_Positive</th>\n",
       "      <th>Surgery_type_Lumpectomy</th>\n",
       "      <th>Surgery_type_Modified Radical Mastectomy</th>\n",
       "      <th>Surgery_type_Other</th>\n",
       "      <th>Surgery_type_Simple Mastectomy</th>\n",
       "    </tr>\n",
       "  </thead>\n",
       "  <tbody>\n",
       "    <tr>\n",
       "      <th>0</th>\n",
       "      <td>36.0</td>\n",
       "      <td>0.080353</td>\n",
       "      <td>0.42638</td>\n",
       "      <td>0.54715</td>\n",
       "      <td>0.273680</td>\n",
       "      <td>155</td>\n",
       "      <td>3</td>\n",
       "      <td>1</td>\n",
       "      <td>0</td>\n",
       "      <td>0</td>\n",
       "      <td>1</td>\n",
       "      <td>0</td>\n",
       "      <td>0</td>\n",
       "      <td>1</td>\n",
       "      <td>0</td>\n",
       "      <td>0</td>\n",
       "    </tr>\n",
       "    <tr>\n",
       "      <th>1</th>\n",
       "      <td>43.0</td>\n",
       "      <td>-0.420320</td>\n",
       "      <td>0.57807</td>\n",
       "      <td>0.61447</td>\n",
       "      <td>-0.031505</td>\n",
       "      <td>562</td>\n",
       "      <td>2</td>\n",
       "      <td>0</td>\n",
       "      <td>0</td>\n",
       "      <td>1</td>\n",
       "      <td>1</td>\n",
       "      <td>0</td>\n",
       "      <td>1</td>\n",
       "      <td>0</td>\n",
       "      <td>0</td>\n",
       "      <td>0</td>\n",
       "    </tr>\n",
       "    <tr>\n",
       "      <th>2</th>\n",
       "      <td>69.0</td>\n",
       "      <td>0.213980</td>\n",
       "      <td>1.31140</td>\n",
       "      <td>-0.32747</td>\n",
       "      <td>-0.234260</td>\n",
       "      <td>274</td>\n",
       "      <td>3</td>\n",
       "      <td>1</td>\n",
       "      <td>0</td>\n",
       "      <td>0</td>\n",
       "      <td>1</td>\n",
       "      <td>0</td>\n",
       "      <td>0</td>\n",
       "      <td>0</td>\n",
       "      <td>1</td>\n",
       "      <td>0</td>\n",
       "    </tr>\n",
       "    <tr>\n",
       "      <th>3</th>\n",
       "      <td>56.0</td>\n",
       "      <td>0.345090</td>\n",
       "      <td>-0.21147</td>\n",
       "      <td>-0.19304</td>\n",
       "      <td>0.124270</td>\n",
       "      <td>168</td>\n",
       "      <td>2</td>\n",
       "      <td>1</td>\n",
       "      <td>0</td>\n",
       "      <td>0</td>\n",
       "      <td>1</td>\n",
       "      <td>0</td>\n",
       "      <td>0</td>\n",
       "      <td>1</td>\n",
       "      <td>0</td>\n",
       "      <td>0</td>\n",
       "    </tr>\n",
       "    <tr>\n",
       "      <th>4</th>\n",
       "      <td>56.0</td>\n",
       "      <td>0.221550</td>\n",
       "      <td>1.90680</td>\n",
       "      <td>0.52045</td>\n",
       "      <td>-0.311990</td>\n",
       "      <td>782</td>\n",
       "      <td>2</td>\n",
       "      <td>1</td>\n",
       "      <td>0</td>\n",
       "      <td>0</td>\n",
       "      <td>1</td>\n",
       "      <td>0</td>\n",
       "      <td>0</td>\n",
       "      <td>0</td>\n",
       "      <td>1</td>\n",
       "      <td>0</td>\n",
       "    </tr>\n",
       "  </tbody>\n",
       "</table>\n",
       "</div>"
      ],
      "text/plain": [
       "    Age  Protein1  Protein2  Protein3  Protein4  \\\n",
       "0  36.0  0.080353   0.42638   0.54715  0.273680   \n",
       "1  43.0 -0.420320   0.57807   0.61447 -0.031505   \n",
       "2  69.0  0.213980   1.31140  -0.32747 -0.234260   \n",
       "3  56.0  0.345090  -0.21147  -0.19304  0.124270   \n",
       "4  56.0  0.221550   1.90680   0.52045 -0.311990   \n",
       "\n",
       "   Days_btwn_surg_and_last_visit  Tumour_stage_int  \\\n",
       "0                            155                 3   \n",
       "1                            562                 2   \n",
       "2                            274                 3   \n",
       "3                            168                 2   \n",
       "4                            782                 2   \n",
       "\n",
       "   Histology_Infiltrating Ductal Carcinoma  \\\n",
       "0                                        1   \n",
       "1                                        0   \n",
       "2                                        1   \n",
       "3                                        1   \n",
       "4                                        1   \n",
       "\n",
       "   Histology_Infiltrating Lobular Carcinoma  Histology_Mucinous Carcinoma  \\\n",
       "0                                         0                             0   \n",
       "1                                         0                             1   \n",
       "2                                         0                             0   \n",
       "3                                         0                             0   \n",
       "4                                         0                             0   \n",
       "\n",
       "   HER2 status_Negative  HER2 status_Positive  Surgery_type_Lumpectomy  \\\n",
       "0                     1                     0                        0   \n",
       "1                     1                     0                        1   \n",
       "2                     1                     0                        0   \n",
       "3                     1                     0                        0   \n",
       "4                     1                     0                        0   \n",
       "\n",
       "   Surgery_type_Modified Radical Mastectomy  Surgery_type_Other  \\\n",
       "0                                         1                   0   \n",
       "1                                         0                   0   \n",
       "2                                         0                   1   \n",
       "3                                         1                   0   \n",
       "4                                         0                   1   \n",
       "\n",
       "   Surgery_type_Simple Mastectomy  \n",
       "0                               0  \n",
       "1                               0  \n",
       "2                               0  \n",
       "3                               0  \n",
       "4                               0  "
      ]
     },
     "execution_count": 162,
     "metadata": {},
     "output_type": "execute_result"
    }
   ],
   "source": [
    "data.head()"
   ]
  },
  {
   "cell_type": "code",
   "execution_count": 163,
   "metadata": {},
   "outputs": [],
   "source": [
    "x_train,x_test,y_train,y_test = train_test_split(data,binary_target,test_size = .2)"
   ]
  },
  {
   "cell_type": "code",
   "execution_count": 164,
   "metadata": {},
   "outputs": [],
   "source": [
    "#here I used a PCA to try and maintain much of the variance\n",
    "pca = PCA(n_components = .99999999)\n",
    "x_reduced = pca.fit_transform(x_train)"
   ]
  },
  {
   "cell_type": "code",
   "execution_count": 165,
   "metadata": {},
   "outputs": [
    {
     "data": {
      "text/plain": [
       "array([9.98922299e-01, 1.05514197e-03, 6.23736359e-06, 2.75008380e-06,\n",
       "       2.60630149e-06, 2.29213835e-06, 1.85580761e-06, 1.65107180e-06,\n",
       "       1.38188962e-06, 1.29437334e-06, 1.28260009e-06, 9.03123552e-07,\n",
       "       3.04347748e-07])"
      ]
     },
     "execution_count": 165,
     "metadata": {},
     "output_type": "execute_result"
    }
   ],
   "source": [
    "pca.explained_variance_ratio_"
   ]
  },
  {
   "cell_type": "code",
   "execution_count": 166,
   "metadata": {},
   "outputs": [
    {
     "data": {
      "text/plain": [
       "array([[ 2.06630231e+02, -1.72038097e+01,  1.11219832e+00, ...,\n",
       "        -2.05562768e-01,  1.42448243e-01, -4.41450632e-02],\n",
       "       [-2.35389072e+02, -1.72212453e+00, -3.95286063e-01, ...,\n",
       "         1.09155683e-01, -5.28773880e-01, -1.06562863e-01],\n",
       "       [-1.81369606e+02, -1.76709786e+01, -1.43879124e+00, ...,\n",
       "        -1.98480418e-01,  1.28826168e+00, -1.19592134e-01],\n",
       "       ...,\n",
       "       [-3.17384542e+02, -5.84000652e+00, -1.71896789e+00, ...,\n",
       "         5.82890753e-01, -2.92014535e-01, -3.06855234e-02],\n",
       "       [-5.63822961e+01, -7.52312972e+00,  1.79465448e-01, ...,\n",
       "         3.84247293e-01,  8.24243423e-01,  3.37269319e-02],\n",
       "       [ 5.74611706e+02, -1.72973258e+00,  7.85746374e-02, ...,\n",
       "        -3.41329521e-01,  1.15940191e-01,  1.20485607e-02]])"
      ]
     },
     "execution_count": 166,
     "metadata": {},
     "output_type": "execute_result"
    }
   ],
   "source": [
    "x_reduced\n",
    "#reduced needs to be tested to see how it effects classification"
   ]
  },
  {
   "cell_type": "code",
   "execution_count": 167,
   "metadata": {},
   "outputs": [
    {
     "data": {
      "text/html": [
       "<div>\n",
       "<style scoped>\n",
       "    .dataframe tbody tr th:only-of-type {\n",
       "        vertical-align: middle;\n",
       "    }\n",
       "\n",
       "    .dataframe tbody tr th {\n",
       "        vertical-align: top;\n",
       "    }\n",
       "\n",
       "    .dataframe thead th {\n",
       "        text-align: right;\n",
       "    }\n",
       "</style>\n",
       "<table border=\"1\" class=\"dataframe\">\n",
       "  <thead>\n",
       "    <tr style=\"text-align: right;\">\n",
       "      <th></th>\n",
       "      <th>Age</th>\n",
       "      <th>Protein1</th>\n",
       "      <th>Protein2</th>\n",
       "      <th>Protein3</th>\n",
       "      <th>Protein4</th>\n",
       "      <th>Days_btwn_surg_and_last_visit</th>\n",
       "      <th>Tumour_stage_int</th>\n",
       "      <th>Histology_Infiltrating Ductal Carcinoma</th>\n",
       "      <th>Histology_Infiltrating Lobular Carcinoma</th>\n",
       "      <th>Histology_Mucinous Carcinoma</th>\n",
       "      <th>HER2 status_Negative</th>\n",
       "      <th>HER2 status_Positive</th>\n",
       "      <th>Surgery_type_Lumpectomy</th>\n",
       "      <th>Surgery_type_Modified Radical Mastectomy</th>\n",
       "      <th>Surgery_type_Other</th>\n",
       "      <th>Surgery_type_Simple Mastectomy</th>\n",
       "    </tr>\n",
       "  </thead>\n",
       "  <tbody>\n",
       "    <tr>\n",
       "      <th>258</th>\n",
       "      <td>41.0</td>\n",
       "      <td>-0.059289</td>\n",
       "      <td>2.05520</td>\n",
       "      <td>0.047034</td>\n",
       "      <td>-0.210040</td>\n",
       "      <td>660</td>\n",
       "      <td>2</td>\n",
       "      <td>0</td>\n",
       "      <td>1</td>\n",
       "      <td>0</td>\n",
       "      <td>1</td>\n",
       "      <td>0</td>\n",
       "      <td>0</td>\n",
       "      <td>0</td>\n",
       "      <td>1</td>\n",
       "      <td>0</td>\n",
       "    </tr>\n",
       "    <tr>\n",
       "      <th>58</th>\n",
       "      <td>57.0</td>\n",
       "      <td>0.000000</td>\n",
       "      <td>0.20684</td>\n",
       "      <td>-0.161100</td>\n",
       "      <td>0.374030</td>\n",
       "      <td>218</td>\n",
       "      <td>1</td>\n",
       "      <td>1</td>\n",
       "      <td>0</td>\n",
       "      <td>0</td>\n",
       "      <td>1</td>\n",
       "      <td>0</td>\n",
       "      <td>1</td>\n",
       "      <td>0</td>\n",
       "      <td>0</td>\n",
       "      <td>0</td>\n",
       "    </tr>\n",
       "    <tr>\n",
       "      <th>98</th>\n",
       "      <td>41.0</td>\n",
       "      <td>0.100120</td>\n",
       "      <td>-0.46547</td>\n",
       "      <td>0.472370</td>\n",
       "      <td>-0.523870</td>\n",
       "      <td>272</td>\n",
       "      <td>1</td>\n",
       "      <td>1</td>\n",
       "      <td>0</td>\n",
       "      <td>0</td>\n",
       "      <td>0</td>\n",
       "      <td>1</td>\n",
       "      <td>0</td>\n",
       "      <td>1</td>\n",
       "      <td>0</td>\n",
       "      <td>0</td>\n",
       "    </tr>\n",
       "    <tr>\n",
       "      <th>205</th>\n",
       "      <td>47.0</td>\n",
       "      <td>-0.198190</td>\n",
       "      <td>0.62597</td>\n",
       "      <td>-0.281370</td>\n",
       "      <td>-0.477740</td>\n",
       "      <td>189</td>\n",
       "      <td>2</td>\n",
       "      <td>1</td>\n",
       "      <td>0</td>\n",
       "      <td>0</td>\n",
       "      <td>1</td>\n",
       "      <td>0</td>\n",
       "      <td>1</td>\n",
       "      <td>0</td>\n",
       "      <td>0</td>\n",
       "      <td>0</td>\n",
       "    </tr>\n",
       "    <tr>\n",
       "      <th>162</th>\n",
       "      <td>50.0</td>\n",
       "      <td>-0.158420</td>\n",
       "      <td>2.15150</td>\n",
       "      <td>-0.853600</td>\n",
       "      <td>0.543330</td>\n",
       "      <td>650</td>\n",
       "      <td>3</td>\n",
       "      <td>1</td>\n",
       "      <td>0</td>\n",
       "      <td>0</td>\n",
       "      <td>1</td>\n",
       "      <td>0</td>\n",
       "      <td>0</td>\n",
       "      <td>0</td>\n",
       "      <td>1</td>\n",
       "      <td>0</td>\n",
       "    </tr>\n",
       "    <tr>\n",
       "      <th>...</th>\n",
       "      <td>...</td>\n",
       "      <td>...</td>\n",
       "      <td>...</td>\n",
       "      <td>...</td>\n",
       "      <td>...</td>\n",
       "      <td>...</td>\n",
       "      <td>...</td>\n",
       "      <td>...</td>\n",
       "      <td>...</td>\n",
       "      <td>...</td>\n",
       "      <td>...</td>\n",
       "      <td>...</td>\n",
       "      <td>...</td>\n",
       "      <td>...</td>\n",
       "      <td>...</td>\n",
       "      <td>...</td>\n",
       "    </tr>\n",
       "    <tr>\n",
       "      <th>330</th>\n",
       "      <td>44.0</td>\n",
       "      <td>0.732720</td>\n",
       "      <td>1.11170</td>\n",
       "      <td>-0.269520</td>\n",
       "      <td>-0.354920</td>\n",
       "      <td>124</td>\n",
       "      <td>2</td>\n",
       "      <td>0</td>\n",
       "      <td>1</td>\n",
       "      <td>0</td>\n",
       "      <td>1</td>\n",
       "      <td>0</td>\n",
       "      <td>0</td>\n",
       "      <td>0</td>\n",
       "      <td>1</td>\n",
       "      <td>0</td>\n",
       "    </tr>\n",
       "    <tr>\n",
       "      <th>312</th>\n",
       "      <td>66.0</td>\n",
       "      <td>-1.344100</td>\n",
       "      <td>1.12800</td>\n",
       "      <td>-0.229350</td>\n",
       "      <td>-0.229930</td>\n",
       "      <td>496</td>\n",
       "      <td>2</td>\n",
       "      <td>1</td>\n",
       "      <td>0</td>\n",
       "      <td>0</td>\n",
       "      <td>1</td>\n",
       "      <td>0</td>\n",
       "      <td>0</td>\n",
       "      <td>0</td>\n",
       "      <td>1</td>\n",
       "      <td>0</td>\n",
       "    </tr>\n",
       "    <tr>\n",
       "      <th>103</th>\n",
       "      <td>53.0</td>\n",
       "      <td>0.014106</td>\n",
       "      <td>-0.68397</td>\n",
       "      <td>0.538150</td>\n",
       "      <td>0.718970</td>\n",
       "      <td>136</td>\n",
       "      <td>3</td>\n",
       "      <td>1</td>\n",
       "      <td>0</td>\n",
       "      <td>0</td>\n",
       "      <td>1</td>\n",
       "      <td>0</td>\n",
       "      <td>0</td>\n",
       "      <td>0</td>\n",
       "      <td>0</td>\n",
       "      <td>1</td>\n",
       "    </tr>\n",
       "    <tr>\n",
       "      <th>228</th>\n",
       "      <td>51.0</td>\n",
       "      <td>-0.384660</td>\n",
       "      <td>0.80609</td>\n",
       "      <td>-1.627400</td>\n",
       "      <td>-0.512910</td>\n",
       "      <td>397</td>\n",
       "      <td>2</td>\n",
       "      <td>1</td>\n",
       "      <td>0</td>\n",
       "      <td>0</td>\n",
       "      <td>0</td>\n",
       "      <td>1</td>\n",
       "      <td>0</td>\n",
       "      <td>1</td>\n",
       "      <td>0</td>\n",
       "      <td>0</td>\n",
       "    </tr>\n",
       "    <tr>\n",
       "      <th>78</th>\n",
       "      <td>56.0</td>\n",
       "      <td>-0.257500</td>\n",
       "      <td>0.80691</td>\n",
       "      <td>-0.509170</td>\n",
       "      <td>-0.034585</td>\n",
       "      <td>1028</td>\n",
       "      <td>1</td>\n",
       "      <td>1</td>\n",
       "      <td>0</td>\n",
       "      <td>0</td>\n",
       "      <td>1</td>\n",
       "      <td>0</td>\n",
       "      <td>0</td>\n",
       "      <td>0</td>\n",
       "      <td>1</td>\n",
       "      <td>0</td>\n",
       "    </tr>\n",
       "  </tbody>\n",
       "</table>\n",
       "<p>253 rows × 16 columns</p>\n",
       "</div>"
      ],
      "text/plain": [
       "      Age  Protein1  Protein2  Protein3  Protein4  \\\n",
       "258  41.0 -0.059289   2.05520  0.047034 -0.210040   \n",
       "58   57.0  0.000000   0.20684 -0.161100  0.374030   \n",
       "98   41.0  0.100120  -0.46547  0.472370 -0.523870   \n",
       "205  47.0 -0.198190   0.62597 -0.281370 -0.477740   \n",
       "162  50.0 -0.158420   2.15150 -0.853600  0.543330   \n",
       "..    ...       ...       ...       ...       ...   \n",
       "330  44.0  0.732720   1.11170 -0.269520 -0.354920   \n",
       "312  66.0 -1.344100   1.12800 -0.229350 -0.229930   \n",
       "103  53.0  0.014106  -0.68397  0.538150  0.718970   \n",
       "228  51.0 -0.384660   0.80609 -1.627400 -0.512910   \n",
       "78   56.0 -0.257500   0.80691 -0.509170 -0.034585   \n",
       "\n",
       "     Days_btwn_surg_and_last_visit  Tumour_stage_int  \\\n",
       "258                            660                 2   \n",
       "58                             218                 1   \n",
       "98                             272                 1   \n",
       "205                            189                 2   \n",
       "162                            650                 3   \n",
       "..                             ...               ...   \n",
       "330                            124                 2   \n",
       "312                            496                 2   \n",
       "103                            136                 3   \n",
       "228                            397                 2   \n",
       "78                            1028                 1   \n",
       "\n",
       "     Histology_Infiltrating Ductal Carcinoma  \\\n",
       "258                                        0   \n",
       "58                                         1   \n",
       "98                                         1   \n",
       "205                                        1   \n",
       "162                                        1   \n",
       "..                                       ...   \n",
       "330                                        0   \n",
       "312                                        1   \n",
       "103                                        1   \n",
       "228                                        1   \n",
       "78                                         1   \n",
       "\n",
       "     Histology_Infiltrating Lobular Carcinoma  Histology_Mucinous Carcinoma  \\\n",
       "258                                         1                             0   \n",
       "58                                          0                             0   \n",
       "98                                          0                             0   \n",
       "205                                         0                             0   \n",
       "162                                         0                             0   \n",
       "..                                        ...                           ...   \n",
       "330                                         1                             0   \n",
       "312                                         0                             0   \n",
       "103                                         0                             0   \n",
       "228                                         0                             0   \n",
       "78                                          0                             0   \n",
       "\n",
       "     HER2 status_Negative  HER2 status_Positive  Surgery_type_Lumpectomy  \\\n",
       "258                     1                     0                        0   \n",
       "58                      1                     0                        1   \n",
       "98                      0                     1                        0   \n",
       "205                     1                     0                        1   \n",
       "162                     1                     0                        0   \n",
       "..                    ...                   ...                      ...   \n",
       "330                     1                     0                        0   \n",
       "312                     1                     0                        0   \n",
       "103                     1                     0                        0   \n",
       "228                     0                     1                        0   \n",
       "78                      1                     0                        0   \n",
       "\n",
       "     Surgery_type_Modified Radical Mastectomy  Surgery_type_Other  \\\n",
       "258                                         0                   1   \n",
       "58                                          0                   0   \n",
       "98                                          1                   0   \n",
       "205                                         0                   0   \n",
       "162                                         0                   1   \n",
       "..                                        ...                 ...   \n",
       "330                                         0                   1   \n",
       "312                                         0                   1   \n",
       "103                                         0                   0   \n",
       "228                                         1                   0   \n",
       "78                                          0                   1   \n",
       "\n",
       "     Surgery_type_Simple Mastectomy  \n",
       "258                               0  \n",
       "58                                0  \n",
       "98                                0  \n",
       "205                               0  \n",
       "162                               0  \n",
       "..                              ...  \n",
       "330                               0  \n",
       "312                               0  \n",
       "103                               1  \n",
       "228                               0  \n",
       "78                                0  \n",
       "\n",
       "[253 rows x 16 columns]"
      ]
     },
     "execution_count": 167,
     "metadata": {},
     "output_type": "execute_result"
    }
   ],
   "source": [
    "x_train"
   ]
  },
  {
   "cell_type": "code",
   "execution_count": 168,
   "metadata": {},
   "outputs": [
    {
     "data": {
      "text/plain": [
       "SGDClassifier()"
      ]
     },
     "execution_count": 168,
     "metadata": {},
     "output_type": "execute_result"
    }
   ],
   "source": [
    "sgd_clf = SGDClassifier()\n",
    "sgd_clf.fit(x_train,y_train)"
   ]
  },
  {
   "cell_type": "code",
   "execution_count": 169,
   "metadata": {},
   "outputs": [
    {
     "data": {
      "text/plain": [
       "True"
      ]
     },
     "execution_count": 169,
     "metadata": {},
     "output_type": "execute_result"
    }
   ],
   "source": [
    "y_test.iloc[0]\n",
    "#look test"
   ]
  },
  {
   "cell_type": "code",
   "execution_count": 170,
   "metadata": {},
   "outputs": [
    {
     "data": {
      "text/plain": [
       "array([[ 4.9000e+01,  6.1643e-02,  1.3149e+00, -9.9357e-02,  7.5441e-01,\n",
       "         1.7000e+02,  2.0000e+00,  0.0000e+00,  1.0000e+00,  0.0000e+00,\n",
       "         1.0000e+00,  0.0000e+00,  0.0000e+00,  0.0000e+00,  1.0000e+00,\n",
       "         0.0000e+00]])"
      ]
     },
     "execution_count": 170,
     "metadata": {},
     "output_type": "execute_result"
    }
   ],
   "source": [
    "from_pandas = x_test.iloc[0]\n",
    "data = np.array(from_pandas)\n",
    "data_pt = data.reshape(1,-1)\n",
    "data_pt"
   ]
  },
  {
   "cell_type": "code",
   "execution_count": 171,
   "metadata": {},
   "outputs": [
    {
     "data": {
      "text/plain": [
       "array([ True])"
      ]
     },
     "execution_count": 171,
     "metadata": {},
     "output_type": "execute_result"
    }
   ],
   "source": [
    "sgd_clf.predict(data_pt)\n",
    "#obviously not passing the look test "
   ]
  },
  {
   "cell_type": "code",
   "execution_count": 172,
   "metadata": {},
   "outputs": [
    {
     "data": {
      "text/plain": [
       "SGDClassifier()"
      ]
     },
     "execution_count": 172,
     "metadata": {},
     "output_type": "execute_result"
    }
   ],
   "source": [
    "sgd_clf_re = SGDClassifier()\n",
    "sgd_clf_re.fit(x_reduced,y_train)"
   ]
  },
  {
   "cell_type": "code",
   "execution_count": 173,
   "metadata": {},
   "outputs": [
    {
     "data": {
      "text/plain": [
       "array([ True])"
      ]
     },
     "execution_count": 173,
     "metadata": {},
     "output_type": "execute_result"
    }
   ],
   "source": [
    "sgd_clf.predict(data_pt)\n",
    "#does not work either "
   ]
  },
  {
   "cell_type": "code",
   "execution_count": 174,
   "metadata": {},
   "outputs": [
    {
     "data": {
      "text/plain": [
       "array([0.81176471, 0.75      , 0.80952381])"
      ]
     },
     "execution_count": 174,
     "metadata": {},
     "output_type": "execute_result"
    }
   ],
   "source": [
    "score = cross_val_score(sgd_clf,x_train,y_train,cv=3,scoring='accuracy')\n",
    "score\n",
    "#not too bad"
   ]
  },
  {
   "cell_type": "code",
   "execution_count": 175,
   "metadata": {},
   "outputs": [
    {
     "data": {
      "text/plain": [
       "array([0.54117647, 0.53571429, 0.52380952])"
      ]
     },
     "execution_count": 175,
     "metadata": {},
     "output_type": "execute_result"
    }
   ],
   "source": [
    "score_reduced = cross_val_score(sgd_clf,x_reduced,y_train,cv=3,scoring='accuracy')\n",
    "score_reduced\n",
    "#x reduced is not much better maybe it is best to keep all features"
   ]
  },
  {
   "cell_type": "code",
   "execution_count": 176,
   "metadata": {},
   "outputs": [],
   "source": [
    "y_train_pred =  cross_val_predict(sgd_clf,x_train,y_train,cv=3)"
   ]
  },
  {
   "cell_type": "code",
   "execution_count": 177,
   "metadata": {},
   "outputs": [
    {
     "data": {
      "text/plain": [
       "array([[ 17,  31],\n",
       "       [ 77, 128]], dtype=int64)"
      ]
     },
     "execution_count": 177,
     "metadata": {},
     "output_type": "execute_result"
    }
   ],
   "source": [
    "confusion_matrix(y_train,y_train_pred)\n",
    "#good at classifying if someone is alive but bad at classifying if someone died\n",
    "#low cv will show bad classifiication "
   ]
  },
  {
   "cell_type": "code",
   "execution_count": 178,
   "metadata": {},
   "outputs": [],
   "source": [
    "#lets see if correcting the decision function helps makes a better model"
   ]
  },
  {
   "cell_type": "code",
   "execution_count": 179,
   "metadata": {},
   "outputs": [
    {
     "data": {
      "text/plain": [
       "0.8050314465408805"
      ]
     },
     "execution_count": 179,
     "metadata": {},
     "output_type": "execute_result"
    }
   ],
   "source": [
    "precision_score(y_train,y_train_pred)"
   ]
  },
  {
   "cell_type": "code",
   "execution_count": 180,
   "metadata": {},
   "outputs": [
    {
     "data": {
      "text/plain": [
       "0.624390243902439"
      ]
     },
     "execution_count": 180,
     "metadata": {},
     "output_type": "execute_result"
    }
   ],
   "source": [
    "recall_score(y_train,y_train_pred)\n",
    "#all of the pts become alive at a certain pt"
   ]
  },
  {
   "cell_type": "code",
   "execution_count": 87,
   "metadata": {},
   "outputs": [],
   "source": [
    "def plot_precision_recall_and_threshold(precisions,recalls,thresholds):\n",
    "    plt.plot(thresholds,precisions[:-1],'b--',label='Precision')\n",
    "    plt.plot(thresholds,recalls[:-1],'g-',label='Recall')"
   ]
  },
  {
   "cell_type": "code",
   "execution_count": 88,
   "metadata": {},
   "outputs": [],
   "source": [
    "y_scores = cross_val_predict(sgd_clf,x_train,y_train,cv=3,method='decision_function')"
   ]
  },
  {
   "cell_type": "code",
   "execution_count": 89,
   "metadata": {},
   "outputs": [],
   "source": [
    "precisions,recalls,thresholds = precision_recall_curve(y_train,y_scores)"
   ]
  },
  {
   "cell_type": "code",
   "execution_count": 90,
   "metadata": {},
   "outputs": [
    {
     "data": {
      "image/png": "[encoded data removed]",
      "text/plain": [
       "<Figure size 432x288 with 1 Axes>"
      ]
     },
     "metadata": {
      "needs_background": "light"
     },
     "output_type": "display_data"
    }
   ],
   "source": [
    "plot_precision_recall_and_threshold(precisions,recalls,thresholds)\n",
    "plt.show()"
   ]
  },
  {
   "cell_type": "code",
   "execution_count": 109,
   "metadata": {},
   "outputs": [],
   "source": [
    "theshold_80_precision = thresholds[np.argmax(precisions == 0.90)]\n",
    "y_train_pred_80 = (y_scores >= theshold_80_precision )"
   ]
  },
  {
   "cell_type": "code",
   "execution_count": 110,
   "metadata": {},
   "outputs": [
    {
     "data": {
      "text/plain": [
       "0.8260869565217391"
      ]
     },
     "execution_count": 110,
     "metadata": {},
     "output_type": "execute_result"
    }
   ],
   "source": [
    "precision_score(y_train,y_train_pred_80)"
   ]
  },
  {
   "cell_type": "code",
   "execution_count": 111,
   "metadata": {},
   "outputs": [
    {
     "data": {
      "text/plain": [
       "1.0"
      ]
     },
     "execution_count": 111,
     "metadata": {},
     "output_type": "execute_result"
    }
   ],
   "source": [
    "recall_score(y_train,y_train_pred_80)"
   ]
  },
  {
   "cell_type": "code",
   "execution_count": 112,
   "metadata": {},
   "outputs": [
    {
     "data": {
      "text/plain": [
       "array([[  0,  44],\n",
       "       [  0, 209]], dtype=int64)"
      ]
     },
     "execution_count": 112,
     "metadata": {},
     "output_type": "execute_result"
    }
   ],
   "source": [
    "confusion_matrix(y_train,y_train_pred_80)\n",
    "#the best model is one that incorrectly classifies deaths but correctly classifies alive\n",
    "#i think this measn it is oveerfitting everything"
   ]
  },
  {
   "cell_type": "code",
   "execution_count": 83,
   "metadata": {},
   "outputs": [],
   "source": [
    "fpr,tnr,thresholds = roc_curve(y_train,y_scores)"
   ]
  },
  {
   "cell_type": "code",
   "execution_count": 84,
   "metadata": {},
   "outputs": [
    {
     "data": {
      "image/png": "[encoded data removed]",
      "text/plain": [
       "<Figure size 432x288 with 1 Axes>"
      ]
     },
     "metadata": {
      "needs_background": "light"
     },
     "output_type": "display_data"
    }
   ],
   "source": [
    "def plot_roc_curve(fpr,tnr,label=None):\n",
    "    plt.plot(fpr,tnr,label=label)\n",
    "    plt.plot([0,1],[0,1],'k--')\n",
    "\n",
    "plot_roc_curve(fpr,tnr)\n",
    "plt.show()"
   ]
  },
  {
   "cell_type": "code",
   "execution_count": 113,
   "metadata": {},
   "outputs": [
    {
     "data": {
      "text/plain": [
       "0.4512831665941714"
      ]
     },
     "execution_count": 113,
     "metadata": {},
     "output_type": "execute_result"
    }
   ],
   "source": [
    "roc_auc_score(y_train,y_scores)\n",
    "#so althoguh the model is good at detecting true positives it is bad at determining true negatives"
   ]
  },
  {
   "cell_type": "code",
   "execution_count": 114,
   "metadata": {},
   "outputs": [
    {
     "data": {
      "text/plain": [
       "'SGD classifier is not bad but there may possibly be a better classifier to do the job\\nthe goal for all classifiers from here should be to more accurately predict deaths'"
      ]
     },
     "execution_count": 114,
     "metadata": {},
     "output_type": "execute_result"
    }
   ],
   "source": [
    "\"\"\"SGD classifier is not bad but there may possibly be a better classifier to do the job\n",
    "the goal for all classifiers from here should be to more accurately predict deaths\"\"\""
   ]
  },
  {
   "cell_type": "code",
   "execution_count": 115,
   "metadata": {},
   "outputs": [
    {
     "data": {
      "text/plain": [
       "Pipeline(steps=[('std', StandardScaler()), ('svc', SVC())])"
      ]
     },
     "execution_count": 115,
     "metadata": {},
     "output_type": "execute_result"
    }
   ],
   "source": [
    "svc_pipe = Pipeline([('std',StandardScaler()),\n",
    "                    ('svc',SVC())])\n",
    "svc_pipe.fit(x_train,y_train)"
   ]
  },
  {
   "cell_type": "code",
   "execution_count": 116,
   "metadata": {},
   "outputs": [
    {
     "data": {
      "text/plain": [
       "array([ True])"
      ]
     },
     "execution_count": 116,
     "metadata": {},
     "output_type": "execute_result"
    }
   ],
   "source": [
    "svc_pipe.predict(data_pt)"
   ]
  },
  {
   "cell_type": "code",
   "execution_count": 117,
   "metadata": {},
   "outputs": [
    {
     "data": {
      "text/plain": [
       "array([0.82352941, 0.83333333, 0.82142857])"
      ]
     },
     "execution_count": 117,
     "metadata": {},
     "output_type": "execute_result"
    }
   ],
   "source": [
    "score_reduced_svc = cross_val_score(svc_pipe,x_train,y_train,cv=3,scoring='accuracy')\n",
    "score_reduced_svc\n",
    "#ac"
   ]
  },
  {
   "cell_type": "code",
   "execution_count": 118,
   "metadata": {},
   "outputs": [],
   "source": [
    "def test_svc_kernels(kernel_names):\n",
    "    for kernel_name in kernel_names:\n",
    "        svc_pipeline = Pipeline([('std',StandardScaler()),\n",
    "                            ('svc',SVC(kernel= kernel_name))])\n",
    "        svc_pipeline.fit(x_train,y_train)\n",
    "        score = cross_val_score(svc_pipeline,x_train,y_train,cv=3,scoring='accuracy')\n",
    "        print(kernel_name,\": \",score)       "
   ]
  },
  {
   "cell_type": "code",
   "execution_count": 119,
   "metadata": {},
   "outputs": [
    {
     "name": "stdout",
     "output_type": "stream",
     "text": [
      "linear :  [0.82352941 0.83333333 0.82142857]\n",
      "poly :  [0.82352941 0.83333333 0.78571429]\n",
      "rbf :  [0.82352941 0.83333333 0.82142857]\n",
      "sigmoid :  [0.84705882 0.83333333 0.82142857]\n"
     ]
    }
   ],
   "source": [
    "kernels = ['linear', 'poly', 'rbf', 'sigmoid']\n",
    "test_svc_kernels(kernels)\n",
    "#doesn't change much"
   ]
  },
  {
   "cell_type": "code",
   "execution_count": 120,
   "metadata": {},
   "outputs": [
    {
     "data": {
      "text/plain": [
       "RandomForestClassifier(n_estimators=1000)"
      ]
     },
     "execution_count": 120,
     "metadata": {},
     "output_type": "execute_result"
    }
   ],
   "source": [
    "rnd_clf  = RandomForestClassifier(n_estimators = 1000)\n",
    "rnd_clf.fit(x_train,y_train)"
   ]
  },
  {
   "cell_type": "code",
   "execution_count": 121,
   "metadata": {},
   "outputs": [],
   "source": [
    "scores_probs = cross_val_predict(rnd_clf,x_train,y_train,cv=3,method='predict_proba')"
   ]
  },
  {
   "cell_type": "code",
   "execution_count": 122,
   "metadata": {},
   "outputs": [],
   "source": [
    "forest_scores = scores_probs[:,1]"
   ]
  },
  {
   "cell_type": "code",
   "execution_count": 123,
   "metadata": {},
   "outputs": [
    {
     "data": {
      "text/plain": [
       "0.48901696389734667"
      ]
     },
     "execution_count": 123,
     "metadata": {},
     "output_type": "execute_result"
    }
   ],
   "source": [
    "roc_auc_score(y_train,forest_scores)"
   ]
  },
  {
   "cell_type": "code",
   "execution_count": 58,
   "metadata": {},
   "outputs": [],
   "source": [
    "params = [{'n_estimators':[100,1000,1500,2000,10000],'max_features':[2,4,6,8]}]"
   ]
  },
  {
   "cell_type": "code",
   "execution_count": 59,
   "metadata": {},
   "outputs": [],
   "source": [
    "test_rnd_clf = RandomForestClassifier()\n",
    "grid_search = GridSearchCV(test_rnd_clf,params,cv=5,scoring='accuracy')"
   ]
  },
  {
   "cell_type": "code",
   "execution_count": 60,
   "metadata": {},
   "outputs": [
    {
     "data": {
      "text/plain": [
       "GridSearchCV(cv=5, estimator=RandomForestClassifier(),\n",
       "             param_grid=[{'max_features': [2, 4, 6, 8],\n",
       "                          'n_estimators': [100, 1000, 1500, 2000, 10000]}],\n",
       "             scoring='accuracy')"
      ]
     },
     "execution_count": 60,
     "metadata": {},
     "output_type": "execute_result"
    }
   ],
   "source": [
    "grid_search.fit(x_train,y_train)"
   ]
  },
  {
   "cell_type": "code",
   "execution_count": 61,
   "metadata": {},
   "outputs": [
    {
     "data": {
      "text/plain": [
       "{'max_features': 2, 'n_estimators': 100}"
      ]
     },
     "execution_count": 61,
     "metadata": {},
     "output_type": "execute_result"
    }
   ],
   "source": [
    "grid_search.best_params_"
   ]
  },
  {
   "cell_type": "code",
   "execution_count": 62,
   "metadata": {},
   "outputs": [
    {
     "data": {
      "text/plain": [
       "RandomForestClassifier(max_features=2)"
      ]
     },
     "execution_count": 62,
     "metadata": {},
     "output_type": "execute_result"
    }
   ],
   "source": [
    "best_feat_clf = RandomForestClassifier(max_features=  2, n_estimators = 100)\n",
    "best_feat_clf.fit(x_train,y_train)"
   ]
  },
  {
   "cell_type": "code",
   "execution_count": 63,
   "metadata": {},
   "outputs": [
    {
     "data": {
      "text/plain": [
       "0.4960852544584602"
      ]
     },
     "execution_count": 63,
     "metadata": {},
     "output_type": "execute_result"
    }
   ],
   "source": [
    "scores_probs = cross_val_predict(best_feat_clf,x_train,y_train,cv=3,method='predict_proba')\n",
    "forest_scores = scores_probs[:,1]\n",
    "roc_auc_score(y_train,forest_scores)\n",
    "#not any better "
   ]
  },
  {
   "cell_type": "code",
   "execution_count": 64,
   "metadata": {},
   "outputs": [],
   "source": [
    "rnd_clf2 = RandomForestClassifier(max_features = 2)\n",
    "sgd_clf = SGDClassifier()\n",
    "svc_pipe = Pipeline([('std',StandardScaler()),\n",
    "                    ('svc',SVC())])"
   ]
  },
  {
   "cell_type": "code",
   "execution_count": 65,
   "metadata": {},
   "outputs": [],
   "source": [
    "voting_clf = VotingClassifier(estimators = [('svc',svc_pipe),('sgd',sgd_clf)],voting = 'hard')"
   ]
  },
  {
   "cell_type": "code",
   "execution_count": 66,
   "metadata": {},
   "outputs": [
    {
     "data": {
      "text/plain": [
       "VotingClassifier(estimators=[('svc',\n",
       "                              Pipeline(steps=[('std', StandardScaler()),\n",
       "                                              ('svc', SVC())])),\n",
       "                             ('sgd', SGDClassifier())])"
      ]
     },
     "execution_count": 66,
     "metadata": {},
     "output_type": "execute_result"
    }
   ],
   "source": [
    "voting_clf.fit(x_train,y_train)"
   ]
  },
  {
   "cell_type": "code",
   "execution_count": 67,
   "metadata": {},
   "outputs": [],
   "source": [
    "y_pred_vote = voting_clf.predict(x_test)"
   ]
  },
  {
   "cell_type": "code",
   "execution_count": 128,
   "metadata": {},
   "outputs": [
    {
     "data": {
      "text/plain": [
       "0.71875"
      ]
     },
     "execution_count": 128,
     "metadata": {},
     "output_type": "execute_result"
    }
   ],
   "source": [
    "accuracy_score(y_test,y_pred_vote)"
   ]
  },
  {
   "cell_type": "code",
   "execution_count": 130,
   "metadata": {},
   "outputs": [
    {
     "data": {
      "text/plain": [
       "array([[ 0, 18],\n",
       "       [ 0, 46]], dtype=int64)"
      ]
     },
     "execution_count": 130,
     "metadata": {},
     "output_type": "execute_result"
    }
   ],
   "source": [
    "confusion_matrix(y_test,y_pred_vote)\n",
    "#same deal"
   ]
  },
  {
   "cell_type": "code",
   "execution_count": 133,
   "metadata": {},
   "outputs": [],
   "source": [
    "#when testing for death the model still overfits for alive\n",
    "#i think overall there is either not enough data or no data that could correlate with death"
   ]
  }
 ],
 "metadata": {
  "kernelspec": {
   "display_name": "Python 3",
   "language": "python",
   "name": "python3"
  },
  "language_info": {
   "codemirror_mode": {
    "name": "ipython",
    "version": 3
   },
   "file_extension": ".py",
   "mimetype": "text/x-python",
   "name": "python",
   "nbconvert_exporter": "python",
   "pygments_lexer": "ipython3",
   "version": "3.8.5"
  }
 },
 "nbformat": 4,
 "nbformat_minor": 4
}
